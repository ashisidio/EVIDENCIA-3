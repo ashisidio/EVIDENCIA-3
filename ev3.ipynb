{
  "nbformat": 4,
  "nbformat_minor": 0,
  "metadata": {
    "colab": {
      "provenance": []
    },
    "kernelspec": {
      "name": "python3",
      "display_name": "Python 3"
    },
    "language_info": {
      "name": "python"
    }
  },
  "cells": [
    {
      "cell_type": "code",
      "source": [
        "import pickle\n",
        "\n",
        "#clase\n",
        "class artista:\n",
        "    def __init__(self, name):\n",
        "        self.name = name\n"
      ],
      "metadata": {
        "id": "zHHw-LvTN_dA"
      },
      "execution_count": 16,
      "outputs": []
    },
    {
      "cell_type": "code",
      "source": [
        " # metodo\n",
        " def __eq__(self, other):\n",
        "        if isinstance(other, Artista):\n",
        "            return self.name == other.name\n",
        "        return False"
      ],
      "metadata": {
        "id": "N34xgwg7PKCu"
      },
      "execution_count": 26,
      "outputs": []
    },
    {
      "cell_type": "code",
      "source": [
        "#crear un objeto Artista\n",
        "artist = artista (\"Artista de prueba\")"
      ],
      "metadata": {
        "id": "E4x1A-mZPPsF"
      },
      "execution_count": 18,
      "outputs": []
    },
    {
      "cell_type": "code",
      "source": [
        "#pickle\n",
        "with open(\"artista.pickle\", \"wb\") as f:\n",
        "    pickle.dump(artista, f)"
      ],
      "metadata": {
        "id": "TMNQZC7FPTZe"
      },
      "execution_count": null,
      "outputs": []
    },
    {
      "cell_type": "code",
      "source": [
        "# cargar archivo binario\n",
        "with open(\"artista.pickle\", \"rb\") as f:\n",
        "    cargado = pickle.load(f)"
      ],
      "metadata": {
        "id": "k4Yv0eZ6PTja"
      },
      "execution_count": 19,
      "outputs": []
    },
    {
      "cell_type": "code",
      "source": [
        "# comprobar si el objeto es igual\n",
        "if cargado == artista:\n",
        "    print(\"Los objetos son iguales.\")\n",
        "else:\n",
        "    print(\"Los objetos no son iguales.\")"
      ],
      "metadata": {
        "colab": {
          "base_uri": "https://localhost:8080/"
        },
        "id": "056qNSVaPTu8",
        "outputId": "edd205d1-7500-42df-d748-ba5b5df21ab9"
      },
      "execution_count": 20,
      "outputs": [
        {
          "output_type": "stream",
          "name": "stdout",
          "text": [
            "Los objetos son iguales.\n"
          ]
        }
      ]
    },
    {
      "cell_type": "code",
      "source": [
        "#link de la libreta\n",
        "#https://colab.research.google.com/drive/1x5uS2jUOfvfegkkOmkoxShYMMbfVFjtZ?usp=sharing"
      ],
      "metadata": {
        "id": "Gel23dh6QH-H"
      },
      "execution_count": null,
      "outputs": []
    }
  ]
}